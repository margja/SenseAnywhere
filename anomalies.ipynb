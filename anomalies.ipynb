{
 "cells": [
  {
   "cell_type": "markdown",
   "metadata": {},
   "source": [
    "# Temperature's influence on anomalities\n",
    "\n",
    "In this notebook I will explore if sensors in lower temperature devices have more anomalities. First , let's combine all the temperature data into one dataframe."
   ]
  },
  {
   "cell_type": "code",
   "execution_count": 24,
   "metadata": {},
   "outputs": [],
   "source": [
    "import pandas as pd\n",
    "import matplotlib.pyplot as plt\n",
    "import seaborn as sns\n",
    "import numpy as np\n",
    "import seaborn as sns\n",
    "import glob\n"
   ]
  },
  {
   "cell_type": "code",
   "execution_count": 1,
   "metadata": {},
   "outputs": [],
   "source": [
    "path = r'data/temp_data'\n",
    "all_files = glob.glob(path + \"/*.xlsx\")\n",
    "dfList = []\n",
    "\n",
    "for filename in all_files:\n",
    "    frame = pd.read_excel(filename, index_col=None, header=0)\n",
    "    dfList.append(frame)\n",
    "\n",
    "df = pd.concat(dfList, axis=0, ignore_index=True)"
   ]
  },
  {
   "cell_type": "markdown",
   "metadata": {},
   "source": [
    "Now we take a look at 10 random rows to determine if the datasets have been merged properly. Looks like they have."
   ]
  },
  {
   "cell_type": "code",
   "execution_count": 2,
   "metadata": {},
   "outputs": [
    {
     "data": {
      "text/html": [
       "<div>\n",
       "<style scoped>\n",
       "    .dataframe tbody tr th:only-of-type {\n",
       "        vertical-align: middle;\n",
       "    }\n",
       "\n",
       "    .dataframe tbody tr th {\n",
       "        vertical-align: top;\n",
       "    }\n",
       "\n",
       "    .dataframe thead th {\n",
       "        text-align: right;\n",
       "    }\n",
       "</style>\n",
       "<table border=\"1\" class=\"dataframe\">\n",
       "  <thead>\n",
       "    <tr style=\"text-align: right;\">\n",
       "      <th></th>\n",
       "      <th>DeviceId</th>\n",
       "      <th>EventDt</th>\n",
       "      <th>Temp</th>\n",
       "    </tr>\n",
       "  </thead>\n",
       "  <tbody>\n",
       "    <tr>\n",
       "      <th>7105779</th>\n",
       "      <td>Q</td>\n",
       "      <td>2021-06-23 15:20:07.317</td>\n",
       "      <td>19.91</td>\n",
       "    </tr>\n",
       "    <tr>\n",
       "      <th>5308339</th>\n",
       "      <td>K</td>\n",
       "      <td>2021-09-15 12:52:30.013</td>\n",
       "      <td>-27.35</td>\n",
       "    </tr>\n",
       "    <tr>\n",
       "      <th>8675461</th>\n",
       "      <td>V</td>\n",
       "      <td>2020-08-28 22:07:50.647</td>\n",
       "      <td>4.00</td>\n",
       "    </tr>\n",
       "    <tr>\n",
       "      <th>7389694</th>\n",
       "      <td>R</td>\n",
       "      <td>2021-03-05 10:30:30.567</td>\n",
       "      <td>3.91</td>\n",
       "    </tr>\n",
       "    <tr>\n",
       "      <th>8470662</th>\n",
       "      <td>U</td>\n",
       "      <td>2021-09-17 19:42:21.397</td>\n",
       "      <td>22.04</td>\n",
       "    </tr>\n",
       "    <tr>\n",
       "      <th>4042018</th>\n",
       "      <td>H</td>\n",
       "      <td>2020-05-14 19:29:41.040</td>\n",
       "      <td>-27.11</td>\n",
       "    </tr>\n",
       "    <tr>\n",
       "      <th>8774164</th>\n",
       "      <td>V</td>\n",
       "      <td>2021-08-06 15:20:07.560</td>\n",
       "      <td>3.67</td>\n",
       "    </tr>\n",
       "    <tr>\n",
       "      <th>5944464</th>\n",
       "      <td>N</td>\n",
       "      <td>2021-10-02 06:29:05.560</td>\n",
       "      <td>18.25</td>\n",
       "    </tr>\n",
       "    <tr>\n",
       "      <th>7871578</th>\n",
       "      <td>T</td>\n",
       "      <td>2019-09-05 11:48:32.373</td>\n",
       "      <td>16.36</td>\n",
       "    </tr>\n",
       "    <tr>\n",
       "      <th>4970453</th>\n",
       "      <td>J</td>\n",
       "      <td>2021-06-12 23:50:31.773</td>\n",
       "      <td>20.77</td>\n",
       "    </tr>\n",
       "  </tbody>\n",
       "</table>\n",
       "</div>"
      ],
      "text/plain": [
       "        DeviceId                 EventDt   Temp\n",
       "7105779        Q 2021-06-23 15:20:07.317  19.91\n",
       "5308339        K 2021-09-15 12:52:30.013 -27.35\n",
       "8675461        V 2020-08-28 22:07:50.647   4.00\n",
       "7389694        R 2021-03-05 10:30:30.567   3.91\n",
       "8470662        U 2021-09-17 19:42:21.397  22.04\n",
       "4042018        H 2020-05-14 19:29:41.040 -27.11\n",
       "8774164        V 2021-08-06 15:20:07.560   3.67\n",
       "5944464        N 2021-10-02 06:29:05.560  18.25\n",
       "7871578        T 2019-09-05 11:48:32.373  16.36\n",
       "4970453        J 2021-06-12 23:50:31.773  20.77"
      ]
     },
     "execution_count": 2,
     "metadata": {},
     "output_type": "execute_result"
    }
   ],
   "source": [
    "df.sample(n=10)"
   ]
  },
  {
   "cell_type": "markdown",
   "metadata": {},
   "source": [
    "In order to conclude if colder devices have more anomalies, we will be taking the 5 hottest and coldest devices (on average), and looking which have more anomalities."
   ]
  },
  {
   "cell_type": "code",
   "execution_count": 7,
   "metadata": {},
   "outputs": [],
   "source": [
    "hotcold = []\n",
    "# Het hele zoeken van de warmste en koudste devices kan probably veel makkelijker\n",
    "for filename in all_files:\n",
    "    device = pd.read_excel(filename)\n",
    "    # get data\n",
    "    avg_temp = device[\"Temp\"].mean()\n",
    "    device = device[\"DeviceId\"].iloc[0]\n",
    "    # new entry to list\n",
    "    hotcold.append(\n",
    "        {\n",
    "            \"DeviceId\": device,\n",
    "            \"Temp\": avg_temp\n",
    "        }\n",
    "    )\n",
    "    # debug\n",
    "    # print(avg_temp)\n",
    "    # print(device[\"DeviceId\"].iloc[0])\n",
    "\n",
    "df_hotcold = pd.DataFrame(hotcold)\n",
    "    "
   ]
  },
  {
   "cell_type": "markdown",
   "metadata": {},
   "source": [
    "Now we just sort the output by temperature, to see which devices are the coldest and the hottest. And divide them into the hottest 5 and coldest 5. Now we can see which devices are the coldest and hottest."
   ]
  },
  {
   "cell_type": "code",
   "execution_count": 21,
   "metadata": {},
   "outputs": [
    {
     "name": "stdout",
     "output_type": "stream",
     "text": [
      "coldest devices: \n",
      "14     K\n",
      "11     H\n",
      "8      E\n",
      "1     AA\n",
      "27     Y\n",
      "Name: DeviceId, dtype: object\n",
      "hottest devices: \n",
      "23     U\n",
      "17     O\n",
      "19     Q\n",
      "9      F\n",
      "3     AC\n",
      "Name: DeviceId, dtype: object\n"
     ]
    }
   ],
   "source": [
    "df_coldest = df_hotcold.sort_values(by=[\"Temp\"]).head(5)\n",
    "df_hottest = df_hotcold.sort_values(by=[\"Temp\"]).tail(5)\n",
    "\n",
    "print(\"coldest devices: \")\n",
    "print(df_coldest[\"DeviceId\"])\n",
    "\n",
    "print(\"hottest devices: \")\n",
    "print(df_hottest[\"DeviceId\"])"
   ]
  },
  {
   "cell_type": "markdown",
   "metadata": {},
   "source": [
    "Let's see if we can find the outliers of device K"
   ]
  },
  {
   "cell_type": "code",
   "execution_count": 22,
   "metadata": {},
   "outputs": [],
   "source": [
    "#loading in K\n",
    "df_K = pd.read_excel('data/temp_data/data_K.xlsx')"
   ]
  },
  {
   "cell_type": "markdown",
   "metadata": {},
   "source": [
    "Let's plot K. The outliers are shown as the red dots. "
   ]
  },
  {
   "cell_type": "code",
   "execution_count": 38,
   "metadata": {},
   "outputs": [
    {
     "data": {
      "image/png": "[encoded data removed]",
      "text/plain": [
       "<Figure size 1440x720 with 1 Axes>"
      ]
     },
     "metadata": {
      "needs_background": "light"
     },
     "output_type": "display_data"
    }
   ],
   "source": [
    "sns.lineplot(x=\"EventDt\", y=\"Temp\", data=df_K)\n",
    "\n",
    "outliers_K = df_K.loc[((df_K[\"Temp\"] > -23) == True) | ((df_K[\"Temp\"] < -29) == True)]\n",
    "sns.scatterplot(x=\"EventDt\", y=\"Temp\", data=outliers_K, c=['r'])\n",
    "\n",
    "plt.gcf().set_size_inches(20, 10)"
   ]
  }
 ],
 "metadata": {
  "interpreter": {
   "hash": "860d2b4667de70e92398596be10ad9f3e8ceed469e8d76191a6e4c4a6fcf4afd"
  },
  "kernelspec": {
   "display_name": "Python 3.9.7 ('base')",
   "language": "python",
   "name": "python3"
  },
  "language_info": {
   "codemirror_mode": {
    "name": "ipython",
    "version": 3
   },
   "file_extension": ".py",
   "mimetype": "text/x-python",
   "name": "python",
   "nbconvert_exporter": "python",
   "pygments_lexer": "ipython3",
   "version": "3.9.7"
  },
  "orig_nbformat": 4
 },
 "nbformat": 4,
 "nbformat_minor": 2
}
