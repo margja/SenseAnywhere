{
 "cells": [
  {
   "cell_type": "markdown",
   "metadata": {},
   "source": [
    "# Temperature's influence on anomalities\n",
    "\n",
    "In this notebook I will explore if sensors in lower temperature devices have more anomalities. First , let's combine all the temperature data into one dataframe."
   ]
  },
  {
   "cell_type": "code",
   "execution_count": 33,
   "metadata": {},
   "outputs": [],
   "source": [
    "import pandas as pd\n",
    "import matplotlib.pyplot as plt\n",
    "import seaborn as sns\n",
    "import numpy as np\n",
    "import seaborn as sns\n",
    "import glob\n",
    "import statistics\n"
   ]
  },
  {
   "cell_type": "code",
   "execution_count": 2,
   "metadata": {},
   "outputs": [],
   "source": [
    "path = r'data/temp_data'\n",
    "all_files = glob.glob(path + \"/*.xlsx\")\n",
    "dfList = []\n",
    "\n",
    "for filename in all_files:\n",
    "    frame = pd.read_excel(filename, index_col=None, header=0)\n",
    "    dfList.append(frame)\n",
    "\n",
    "df_All = pd.concat(dfList, axis=0, ignore_index=True)"
   ]
  },
  {
   "cell_type": "markdown",
   "metadata": {},
   "source": [
    "Now we take a look at 10 random rows to determine if the datasets have been merged properly. Looks like they have."
   ]
  },
  {
   "cell_type": "code",
   "execution_count": 3,
   "metadata": {},
   "outputs": [
    {
     "data": {
      "text/html": [
       "<div>\n",
       "<style scoped>\n",
       "    .dataframe tbody tr th:only-of-type {\n",
       "        vertical-align: middle;\n",
       "    }\n",
       "\n",
       "    .dataframe tbody tr th {\n",
       "        vertical-align: top;\n",
       "    }\n",
       "\n",
       "    .dataframe thead th {\n",
       "        text-align: right;\n",
       "    }\n",
       "</style>\n",
       "<table border=\"1\" class=\"dataframe\">\n",
       "  <thead>\n",
       "    <tr style=\"text-align: right;\">\n",
       "      <th></th>\n",
       "      <th>DeviceId</th>\n",
       "      <th>EventDt</th>\n",
       "      <th>Temp</th>\n",
       "    </tr>\n",
       "  </thead>\n",
       "  <tbody>\n",
       "    <tr>\n",
       "      <th>5326905</th>\n",
       "      <td>M</td>\n",
       "      <td>2018-11-19 00:07:22.907</td>\n",
       "      <td>6.19</td>\n",
       "    </tr>\n",
       "    <tr>\n",
       "      <th>8097914</th>\n",
       "      <td>T</td>\n",
       "      <td>2021-10-26 10:59:07.490</td>\n",
       "      <td>18.51</td>\n",
       "    </tr>\n",
       "    <tr>\n",
       "      <th>6704189</th>\n",
       "      <td>P</td>\n",
       "      <td>2020-08-29 06:14:35.453</td>\n",
       "      <td>5.27</td>\n",
       "    </tr>\n",
       "    <tr>\n",
       "      <th>9986510</th>\n",
       "      <td>Z</td>\n",
       "      <td>2021-02-13 04:13:26.187</td>\n",
       "      <td>6.26</td>\n",
       "    </tr>\n",
       "    <tr>\n",
       "      <th>2882111</th>\n",
       "      <td>D</td>\n",
       "      <td>2021-04-24 22:29:43.023</td>\n",
       "      <td>14.18</td>\n",
       "    </tr>\n",
       "    <tr>\n",
       "      <th>6090649</th>\n",
       "      <td>O</td>\n",
       "      <td>2019-06-02 00:26:04.270</td>\n",
       "      <td>22.22</td>\n",
       "    </tr>\n",
       "    <tr>\n",
       "      <th>9694445</th>\n",
       "      <td>Y</td>\n",
       "      <td>2021-05-06 01:45:10.373</td>\n",
       "      <td>-18.47</td>\n",
       "    </tr>\n",
       "    <tr>\n",
       "      <th>5381519</th>\n",
       "      <td>M</td>\n",
       "      <td>2019-05-27 15:13:28.863</td>\n",
       "      <td>6.64</td>\n",
       "    </tr>\n",
       "    <tr>\n",
       "      <th>6922084</th>\n",
       "      <td>Q</td>\n",
       "      <td>2019-09-24 19:55:50.757</td>\n",
       "      <td>19.79</td>\n",
       "    </tr>\n",
       "    <tr>\n",
       "      <th>2406747</th>\n",
       "      <td>C</td>\n",
       "      <td>2019-10-28 06:26:56.213</td>\n",
       "      <td>18.53</td>\n",
       "    </tr>\n",
       "  </tbody>\n",
       "</table>\n",
       "</div>"
      ],
      "text/plain": [
       "        DeviceId                 EventDt   Temp\n",
       "5326905        M 2018-11-19 00:07:22.907   6.19\n",
       "8097914        T 2021-10-26 10:59:07.490  18.51\n",
       "6704189        P 2020-08-29 06:14:35.453   5.27\n",
       "9986510        Z 2021-02-13 04:13:26.187   6.26\n",
       "2882111        D 2021-04-24 22:29:43.023  14.18\n",
       "6090649        O 2019-06-02 00:26:04.270  22.22\n",
       "9694445        Y 2021-05-06 01:45:10.373 -18.47\n",
       "5381519        M 2019-05-27 15:13:28.863   6.64\n",
       "6922084        Q 2019-09-24 19:55:50.757  19.79\n",
       "2406747        C 2019-10-28 06:26:56.213  18.53"
      ]
     },
     "execution_count": 3,
     "metadata": {},
     "output_type": "execute_result"
    }
   ],
   "source": [
    "df.sample(n=10)"
   ]
  },
  {
   "cell_type": "markdown",
   "metadata": {},
   "source": [
    "In order to conclude if colder devices have more anomalies, we will be taking the 5 hottest and coldest devices (on average), and looking which have more anomalities."
   ]
  },
  {
   "cell_type": "code",
   "execution_count": 4,
   "metadata": {},
   "outputs": [],
   "source": [
    "hotcold = []\n",
    "# Het hele zoeken van de warmste en koudste devices kan probably veel makkelijker \n",
    "# Wat ik nou doe is ik pak de mean van de temp van elk excel bestand en douw dit in een lijst, sorteer de lijst op temperatuur en pak de eerste en laatste 5\n",
    "for filename in all_files:\n",
    "    device = pd.read_excel(filename)\n",
    "    # get data\n",
    "    avg_temp = device[\"Temp\"].mean()\n",
    "    device = device[\"DeviceId\"].iloc[0]\n",
    "    # new entry to list\n",
    "    hotcold.append(\n",
    "        {\n",
    "            \"DeviceId\": device,\n",
    "            \"Temp\": avg_temp\n",
    "        }\n",
    "    )\n",
    "    # debug\n",
    "    # print(avg_temp)\n",
    "    # print(device[\"DeviceId\"].iloc[0])\n",
    "\n",
    "df_hotcold = pd.DataFrame(hotcold)\n",
    "    "
   ]
  },
  {
   "cell_type": "markdown",
   "metadata": {},
   "source": [
    "Now we just sort the output by temperature, to see which devices are the coldest and the hottest. And divide them into the hottest 5 and coldest 5. Now we can see which devices are the coldest and hottest."
   ]
  },
  {
   "cell_type": "code",
   "execution_count": 5,
   "metadata": {},
   "outputs": [
    {
     "name": "stdout",
     "output_type": "stream",
     "text": [
      "coldest devices: \n",
      "14     K\n",
      "11     H\n",
      "8      E\n",
      "1     AA\n",
      "27     Y\n",
      "Name: DeviceId, dtype: object\n",
      "hottest devices: \n",
      "23     U\n",
      "17     O\n",
      "19     Q\n",
      "9      F\n",
      "3     AC\n",
      "Name: DeviceId, dtype: object\n"
     ]
    }
   ],
   "source": [
    "df_coldest = df_hotcold.sort_values(by=[\"Temp\"]).head(5)\n",
    "df_hottest = df_hotcold.sort_values(by=[\"Temp\"]).tail(5)\n",
    "\n",
    "print(\"coldest devices: \")\n",
    "print(df_coldest[\"DeviceId\"])\n",
    "\n",
    "print(\"hottest devices: \")\n",
    "print(df_hottest[\"DeviceId\"])"
   ]
  },
  {
   "cell_type": "markdown",
   "metadata": {},
   "source": [
    "Let's see if we can find the outliers of device K. We will be using IQR to find our outliers."
   ]
  },
  {
   "cell_type": "code",
   "execution_count": 6,
   "metadata": {},
   "outputs": [],
   "source": [
    "#loading in K\n",
    "df_K = pd.read_excel('data/temp_data/data_K.xlsx')"
   ]
  },
  {
   "cell_type": "code",
   "execution_count": 11,
   "metadata": {},
   "outputs": [
    {
     "name": "stdout",
     "output_type": "stream",
     "text": [
      "-28.955000000000005\n",
      "-24.354999999999997\n"
     ]
    }
   ],
   "source": [
    "#First step is to sort the dataset by temperature (ascending)\n",
    "K_sorted = sorted(df_K[\"Temp\"])\n",
    "#Now we can split the dataset up into quartiles\n",
    "q1, q3= np.percentile(K_sorted,[25,75])\n",
    "#get iqr\n",
    "iqr = q3 - q1\n",
    "#determine the lower and upper bounds \n",
    "lower_bound = q1 - (1.5 * iqr) \n",
    "upper_bound = q3 + (1.5 * iqr) \n",
    "\n",
    "print(lower_bound)\n",
    "print(upper_bound)"
   ]
  },
  {
   "cell_type": "markdown",
   "metadata": {},
   "source": [
    "Let's plot K. The outliers are shown as the red dots. "
   ]
  },
  {
   "cell_type": "code",
   "execution_count": 12,
   "metadata": {},
   "outputs": [
    {
     "data": {
      "image/png": "[encoded data removed]",
      "text/plain": [
       "<Figure size 1440x720 with 1 Axes>"
      ]
     },
     "metadata": {
      "needs_background": "light"
     },
     "output_type": "display_data"
    }
   ],
   "source": [
    "sns.lineplot(x=\"EventDt\", y=\"Temp\", data=df_K)\n",
    "# make dataframe containing only the outliers\n",
    "outliers_K = df_K.loc[((df_K[\"Temp\"] > upper_bound) == True) | ((df_K[\"Temp\"] < lower_bound) == True)]\n",
    "sns.scatterplot(x=\"EventDt\", y=\"Temp\", data=outliers_K, c=['r'])\n",
    "\n",
    "plt.gcf().set_size_inches(20, 10)"
   ]
  },
  {
   "cell_type": "code",
   "execution_count": 16,
   "metadata": {},
   "outputs": [
    {
     "data": {
      "text/plain": [
       "1423"
      ]
     },
     "execution_count": 16,
     "metadata": {},
     "output_type": "execute_result"
    }
   ],
   "source": [
    "len(outliers_K)"
   ]
  },
  {
   "cell_type": "markdown",
   "metadata": {},
   "source": [
    "Let's find the amount of outliers for the other datasets using the same method."
   ]
  },
  {
   "cell_type": "code",
   "execution_count": 17,
   "metadata": {},
   "outputs": [],
   "source": [
    "#loading in the data\n",
    "df_H = pd.read_excel('data/temp_data/data_H.xlsx')\n",
    "df_E = pd.read_excel('data/temp_data/data_E.xlsx')\n",
    "df_AA = pd.read_excel('data/temp_data/data_AA.xlsx')\n",
    "df_Y = pd.read_excel('data/temp_data/data_Y.xlsx')"
   ]
  },
  {
   "cell_type": "markdown",
   "metadata": {},
   "source": [
    "We will be creating a function which will return the number of outliers in a given dataframe."
   ]
  },
  {
   "cell_type": "code",
   "execution_count": 21,
   "metadata": {},
   "outputs": [],
   "source": [
    "def getOutliers(df):\n",
    "    #First step is to sort the dataset by temperature (ascending)\n",
    "    sorted_df = sorted(df[\"Temp\"])\n",
    "    #Now we can split the dataset up into quartiles\n",
    "    q1, q3= np.percentile(sorted_df,[25,75])\n",
    "    #get iqr\n",
    "    iqr = q3 - q1\n",
    "    #determine the lower and upper bounds \n",
    "    lower_bound = q1 - (1.5 * iqr) \n",
    "    upper_bound = q3 + (1.5 * iqr) \n",
    "    outliers = df.loc[((df[\"Temp\"] > upper_bound) == True) | ((df[\"Temp\"] < lower_bound) == True)]\n",
    "    return len(outliers)\n"
   ]
  },
  {
   "cell_type": "markdown",
   "metadata": {},
   "source": [
    "Now let's use the function to get the number of outliers in each  of the coldest devices. We will be putting them in a list."
   ]
  },
  {
   "cell_type": "code",
   "execution_count": 34,
   "metadata": {},
   "outputs": [],
   "source": [
    "outliers_coldest = []\n",
    "outliers_coldest.append(getOutliers(df_H))\n",
    "outliers_coldest.append(getOutliers(df_E))\n",
    "outliers_coldest.append(getOutliers(df_AA))\n",
    "outliers_coldest.append(getOutliers(df_Y))\n",
    "outliers_coldest.append(len(outliers_K))"
   ]
  },
  {
   "cell_type": "markdown",
   "metadata": {},
   "source": [
    "Now we will be doing the same for the hottest devices. We can use the same function for this."
   ]
  },
  {
   "cell_type": "code",
   "execution_count": 28,
   "metadata": {},
   "outputs": [],
   "source": [
    "#loading in hottest devices\n",
    "df_U = pd.read_excel('data/temp_data/data_U.xlsx')\n",
    "df_O = pd.read_excel('data/temp_data/data_O.xlsx')\n",
    "df_Q = pd.read_excel('data/temp_data/data_Q.xlsx')\n",
    "df_F = pd.read_excel('data/temp_data/data_F.xlsx')\n",
    "df_AC = pd.read_excel('data/temp_data/data_AC.xlsx')"
   ]
  },
  {
   "cell_type": "code",
   "execution_count": 35,
   "metadata": {},
   "outputs": [],
   "source": [
    "outliers_hottest = []\n",
    "outliers_hottest.append(getOutliers(df_U))\n",
    "outliers_hottest.append(getOutliers(df_O))\n",
    "outliers_hottest.append(getOutliers(df_Q))\n",
    "outliers_hottest.append(getOutliers(df_F))\n",
    "outliers_hottest.append(getOutliers(df_AC))\n"
   ]
  },
  {
   "cell_type": "markdown",
   "metadata": {},
   "source": [
    "Now we can compare the mean amount of outliers."
   ]
  },
  {
   "cell_type": "code",
   "execution_count": 37,
   "metadata": {},
   "outputs": [
    {
     "name": "stdout",
     "output_type": "stream",
     "text": [
      "Average outliers coldest 5 devices: 15608.2\n",
      "Mean outliers hottest 5 devices: 35018.8\n"
     ]
    }
   ],
   "source": [
    "print(\"Average outliers coldest 5 devices:\", statistics.mean(outliers_coldest))\n",
    "print(\"Mean outliers hottest 5 devices:\", statistics.mean(outliers_hottest))"
   ]
  }
 ],
 "metadata": {
  "interpreter": {
   "hash": "860d2b4667de70e92398596be10ad9f3e8ceed469e8d76191a6e4c4a6fcf4afd"
  },
  "kernelspec": {
   "display_name": "Python 3.9.7 ('base')",
   "language": "python",
   "name": "python3"
  },
  "language_info": {
   "codemirror_mode": {
    "name": "ipython",
    "version": 3
   },
   "file_extension": ".py",
   "mimetype": "text/x-python",
   "name": "python",
   "nbconvert_exporter": "python",
   "pygments_lexer": "ipython3",
   "version": "3.9.7"
  },
  "orig_nbformat": 4
 },
 "nbformat": 4,
 "nbformat_minor": 2
}
