{
 "cells": [
  {
   "cell_type": "markdown",
   "id": "2b37fec1",
   "metadata": {},
   "source": [
    "### Loading in our data \n"
   ]
  },
  {
   "cell_type": "code",
   "execution_count": 1,
   "id": "4d0b50c5",
   "metadata": {},
   "outputs": [],
   "source": [
    "import pandas as pd\n",
    "import matplotlib.pyplot as plt\n",
    "import seaborn as sns\n",
    "\n",
    "#df_alarm = pd.read_excel('alarm sensors.xlsx')\n",
    "#df_A = pd.read_excel('data_A.xlsx')\n",
    "df_B = pd.read_excel('data/data_B.xlsx')\n",
    "#df_AA = pd.read_excel('data_AA.xlsx')"
   ]
  },
  {
   "cell_type": "code",
   "execution_count": 2,
   "id": "540bc868",
   "metadata": {},
   "outputs": [
    {
     "data": {
      "text/html": [
       "<div>\n",
       "<style scoped>\n",
       "    .dataframe tbody tr th:only-of-type {\n",
       "        vertical-align: middle;\n",
       "    }\n",
       "\n",
       "    .dataframe tbody tr th {\n",
       "        vertical-align: top;\n",
       "    }\n",
       "\n",
       "    .dataframe thead th {\n",
       "        text-align: right;\n",
       "    }\n",
       "</style>\n",
       "<table border=\"1\" class=\"dataframe\">\n",
       "  <thead>\n",
       "    <tr style=\"text-align: right;\">\n",
       "      <th></th>\n",
       "      <th>DeviceId</th>\n",
       "      <th>EventDt</th>\n",
       "      <th>Temp</th>\n",
       "    </tr>\n",
       "  </thead>\n",
       "  <tbody>\n",
       "    <tr>\n",
       "      <th>0</th>\n",
       "      <td>B</td>\n",
       "      <td>2018-11-18 16:13:06.177</td>\n",
       "      <td>5.77</td>\n",
       "    </tr>\n",
       "    <tr>\n",
       "      <th>1</th>\n",
       "      <td>B</td>\n",
       "      <td>2018-11-18 16:18:06.173</td>\n",
       "      <td>5.79</td>\n",
       "    </tr>\n",
       "    <tr>\n",
       "      <th>2</th>\n",
       "      <td>B</td>\n",
       "      <td>2018-11-18 16:23:06.157</td>\n",
       "      <td>5.89</td>\n",
       "    </tr>\n",
       "    <tr>\n",
       "      <th>3</th>\n",
       "      <td>B</td>\n",
       "      <td>2018-11-18 16:28:06.173</td>\n",
       "      <td>6.05</td>\n",
       "    </tr>\n",
       "    <tr>\n",
       "      <th>4</th>\n",
       "      <td>B</td>\n",
       "      <td>2018-11-18 16:33:06.183</td>\n",
       "      <td>6.07</td>\n",
       "    </tr>\n",
       "    <tr>\n",
       "      <th>...</th>\n",
       "      <td>...</td>\n",
       "      <td>...</td>\n",
       "      <td>...</td>\n",
       "    </tr>\n",
       "    <tr>\n",
       "      <th>315821</th>\n",
       "      <td>B</td>\n",
       "      <td>2021-11-18 15:49:06.607</td>\n",
       "      <td>5.64</td>\n",
       "    </tr>\n",
       "    <tr>\n",
       "      <th>315822</th>\n",
       "      <td>B</td>\n",
       "      <td>2021-11-18 15:54:06.590</td>\n",
       "      <td>5.43</td>\n",
       "    </tr>\n",
       "    <tr>\n",
       "      <th>315823</th>\n",
       "      <td>B</td>\n",
       "      <td>2021-11-18 15:59:06.597</td>\n",
       "      <td>5.41</td>\n",
       "    </tr>\n",
       "    <tr>\n",
       "      <th>315824</th>\n",
       "      <td>B</td>\n",
       "      <td>2021-11-18 16:04:06.610</td>\n",
       "      <td>5.54</td>\n",
       "    </tr>\n",
       "    <tr>\n",
       "      <th>315825</th>\n",
       "      <td>B</td>\n",
       "      <td>2021-11-18 16:09:06.610</td>\n",
       "      <td>5.63</td>\n",
       "    </tr>\n",
       "  </tbody>\n",
       "</table>\n",
       "<p>315826 rows × 3 columns</p>\n",
       "</div>"
      ],
      "text/plain": [
       "       DeviceId                 EventDt  Temp\n",
       "0             B 2018-11-18 16:13:06.177  5.77\n",
       "1             B 2018-11-18 16:18:06.173  5.79\n",
       "2             B 2018-11-18 16:23:06.157  5.89\n",
       "3             B 2018-11-18 16:28:06.173  6.05\n",
       "4             B 2018-11-18 16:33:06.183  6.07\n",
       "...         ...                     ...   ...\n",
       "315821        B 2021-11-18 15:49:06.607  5.64\n",
       "315822        B 2021-11-18 15:54:06.590  5.43\n",
       "315823        B 2021-11-18 15:59:06.597  5.41\n",
       "315824        B 2021-11-18 16:04:06.610  5.54\n",
       "315825        B 2021-11-18 16:09:06.610  5.63\n",
       "\n",
       "[315826 rows x 3 columns]"
      ]
     },
     "execution_count": 2,
     "metadata": {},
     "output_type": "execute_result"
    }
   ],
   "source": [
    "##df_alarm\n",
    "df_B"
   ]
  },
  {
   "cell_type": "code",
   "execution_count": 3,
   "id": "6c44ce4c",
   "metadata": {},
   "outputs": [
    {
     "data": {
      "text/plain": [
       "<bound method NDFrame.describe of        DeviceId                 EventDt  Temp\n",
       "0             B 2018-11-18 16:13:06.177  5.77\n",
       "1             B 2018-11-18 16:18:06.173  5.79\n",
       "2             B 2018-11-18 16:23:06.157  5.89\n",
       "3             B 2018-11-18 16:28:06.173  6.05\n",
       "4             B 2018-11-18 16:33:06.183  6.07\n",
       "...         ...                     ...   ...\n",
       "315821        B 2021-11-18 15:49:06.607  5.64\n",
       "315822        B 2021-11-18 15:54:06.590  5.43\n",
       "315823        B 2021-11-18 15:59:06.597  5.41\n",
       "315824        B 2021-11-18 16:04:06.610  5.54\n",
       "315825        B 2021-11-18 16:09:06.610  5.63\n",
       "\n",
       "[315826 rows x 3 columns]>"
      ]
     },
     "execution_count": 3,
     "metadata": {},
     "output_type": "execute_result"
    }
   ],
   "source": [
    "df_B.describe"
   ]
  },
  {
   "cell_type": "code",
   "execution_count": 4,
   "id": "5c9d1784",
   "metadata": {},
   "outputs": [
    {
     "data": {
      "text/plain": [
       "DeviceId    0\n",
       "EventDt     0\n",
       "Temp        0\n",
       "dtype: int64"
      ]
     },
     "execution_count": 4,
     "metadata": {},
     "output_type": "execute_result"
    }
   ],
   "source": [
    "df_B.isna().sum()"
   ]
  },
  {
   "cell_type": "code",
   "execution_count": 5,
   "id": "78adff03",
   "metadata": {},
   "outputs": [
    {
     "data": {
      "text/plain": [
       "<AxesSubplot:title={'center':'Temperature over time'}, xlabel='EventDt'>"
      ]
     },
     "execution_count": 5,
     "metadata": {},
     "output_type": "execute_result"
    },
    {
     "data": {
      "image/png": "[encoded data removed]",
      "text/plain": [
       "<Figure size 432x288 with 1 Axes>"
      ]
     },
     "metadata": {
      "needs_background": "light"
     },
     "output_type": "display_data"
    }
   ],
   "source": [
    "#mask = (df_B['EventDt'] > \"2021-08-17\") & (df_B['EventDt'] <= \"2021-09-17\")\n",
    "#df_B_split = df_B.loc[mask]\n",
    "df_B.plot(x=\"EventDt\", y=\"Temp\", title=\"Temperature over time\")"
   ]
  },
  {
   "cell_type": "code",
   "execution_count": 6,
   "id": "fa5dbe62",
   "metadata": {},
   "outputs": [
    {
     "data": {
      "text/plain": [
       "<AxesSubplot:title={'center':'Temperature over time'}, xlabel='EventDt'>"
      ]
     },
     "execution_count": 6,
     "metadata": {},
     "output_type": "execute_result"
    },
    {
     "data": {
      "image/png": "[encoded data removed]",
      "text/plain": [
       "<Figure size 432x288 with 1 Axes>"
      ]
     },
     "metadata": {
      "needs_background": "light"
     },
     "output_type": "display_data"
    }
   ],
   "source": [
    "mask = (df_B['EventDt'] > \"2021-08-17\") & (df_B['EventDt'] <= \"2021-09-17\")\n",
    "df_B_Split = df_B.loc[mask]\n",
    "df_B_Split.plot(x=\"EventDt\", y=\"Temp\", title=\"Temperature over time\")"
   ]
  },
  {
   "cell_type": "code",
   "execution_count": null,
   "id": "f5e8902b",
   "metadata": {},
   "outputs": [],
   "source": []
  }
 ],
 "metadata": {
  "kernelspec": {
   "display_name": "Python 3 (ipykernel)",
   "language": "python",
   "name": "python3"
  },
  "language_info": {
   "codemirror_mode": {
    "name": "ipython",
    "version": 3
   },
   "file_extension": ".py",
   "mimetype": "text/x-python",
   "name": "python",
   "nbconvert_exporter": "python",
   "pygments_lexer": "ipython3",
   "version": "3.9.7"
  }
 },
 "nbformat": 4,
 "nbformat_minor": 5
}
